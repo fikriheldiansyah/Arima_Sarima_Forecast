{
  "nbformat": 4,
  "nbformat_minor": 0,
  "metadata": {
    "colab": {
      "provenance": []
    },
    "kernelspec": {
      "name": "python3",
      "display_name": "Python 3"
    },
    "language_info": {
      "name": "python"
    }
  },
  "cells": [
    {
      "cell_type": "code",
      "metadata": {
        "colab": {
          "base_uri": "https://localhost:8080/"
        },
        "id": "edWnaaQuR0w6",
        "outputId": "ff04fd9d-cebf-4e21-f74e-d5f12fe7bd3c"
      },
      "source": [
        "# Import all the needed packages\n",
        "\n",
        "import numpy as np\n",
        "import pandas as pd\n",
        "from pandas import datetime\n",
        "import matplotlib.pyplot as plt\n",
        "%matplotlib inline\n",
        "from statsmodels.tsa.stattools import adfuller\n",
        "from statsmodels.tsa.arima_model import ARIMA\n",
        "from statsmodels.tsa.statespace.sarimax import SARIMAX\n",
        "from statsmodels.graphics.tsaplots import plot_acf, plot_pacf\n",
        "from statsmodels.tsa.seasonal import seasonal_decompose"
      ],
      "execution_count": null,
      "outputs": [
        {
          "output_type": "stream",
          "text": [
            "/usr/local/lib/python3.7/dist-packages/ipykernel_launcher.py:5: FutureWarning: The pandas.datetime class is deprecated and will be removed from pandas in a future version. Import from datetime module instead.\n",
            "  \"\"\"\n"
          ],
          "name": "stderr"
        }
      ]
    },
    {
      "cell_type": "code",
      "metadata": {
        "colab": {
          "base_uri": "https://localhost:8080/",
          "height": 279
        },
        "id": "L_xozx42R7ra",
        "outputId": "46d88a8c-849e-4e85-cf01-3d5aaf2d6584"
      },
      "source": [
        "\n",
        "# Load the data\n",
        "data = pd.read_csv('LP2010-20 .csv', engine='python', skipfooter=3)\n",
        "# A bit of pre-processing to make it nicer\n",
        "data['tgl']=pd.to_datetime(data['tgl'], format='%Y-%m-%d')\n",
        "data.set_index(['tgl'], inplace=True)\n",
        "\n",
        "# Plot the data\n",
        "data.plot()\n",
        "plt.ylabel('LP')\n",
        "plt.xlabel('Date')\n",
        "plt.show()\n",
        "\n"
      ],
      "execution_count": null,
      "outputs": [
        {
          "output_type": "display_data",
          "data": {
            "image/png": "[encoded data removed]",
            "text/plain": [
              "<Figure size 432x288 with 1 Axes>"
            ]
          },
          "metadata": {
            "tags": [],
            "needs_background": "light"
          }
        }
      ]
    },
    {
      "cell_type": "code",
      "metadata": {
        "colab": {
          "base_uri": "https://localhost:8080/",
          "height": 340
        },
        "id": "YKMM5BZQTNv3",
        "outputId": "f2175f73-9316-4a87-cb6f-19b73733640e"
      },
      "source": [
        "result = seasonal_decompose(data, 'multipicative')\n",
        "result.plot()\n",
        "plt.show()"
      ],
      "execution_count": null,
      "outputs": [
        {
          "output_type": "error",
          "ename": "ValueError",
          "evalue": "ignored",
          "traceback": [
            "\u001b[0;31m---------------------------------------------------------------------------\u001b[0m",
            "\u001b[0;31mValueError\u001b[0m                                Traceback (most recent call last)",
            "\u001b[0;32m<ipython-input-9-4aaa68dc8fa4>\u001b[0m in \u001b[0;36m<module>\u001b[0;34m()\u001b[0m\n\u001b[0;32m----> 1\u001b[0;31m \u001b[0mresult\u001b[0m \u001b[0;34m=\u001b[0m \u001b[0mseasonal_decompose\u001b[0m\u001b[0;34m(\u001b[0m\u001b[0mdata\u001b[0m\u001b[0;34m,\u001b[0m \u001b[0;34m'multipicative'\u001b[0m\u001b[0;34m)\u001b[0m\u001b[0;34m\u001b[0m\u001b[0;34m\u001b[0m\u001b[0m\n\u001b[0m\u001b[1;32m      2\u001b[0m \u001b[0mresult\u001b[0m\u001b[0;34m.\u001b[0m\u001b[0mplot\u001b[0m\u001b[0;34m(\u001b[0m\u001b[0;34m)\u001b[0m\u001b[0;34m\u001b[0m\u001b[0;34m\u001b[0m\u001b[0m\n\u001b[1;32m      3\u001b[0m \u001b[0mplt\u001b[0m\u001b[0;34m.\u001b[0m\u001b[0mshow\u001b[0m\u001b[0;34m(\u001b[0m\u001b[0;34m)\u001b[0m\u001b[0;34m\u001b[0m\u001b[0;34m\u001b[0m\u001b[0m\n",
            "\u001b[0;32m/usr/local/lib/python3.7/dist-packages/statsmodels/tsa/seasonal.py\u001b[0m in \u001b[0;36mseasonal_decompose\u001b[0;34m(x, model, filt, freq, two_sided, extrapolate_trend)\u001b[0m\n\u001b[1;32m    117\u001b[0m     \u001b[0;32mif\u001b[0m \u001b[0mmodel\u001b[0m\u001b[0;34m.\u001b[0m\u001b[0mstartswith\u001b[0m\u001b[0;34m(\u001b[0m\u001b[0;34m'm'\u001b[0m\u001b[0;34m)\u001b[0m\u001b[0;34m:\u001b[0m\u001b[0;34m\u001b[0m\u001b[0;34m\u001b[0m\u001b[0m\n\u001b[1;32m    118\u001b[0m         \u001b[0;32mif\u001b[0m \u001b[0mnp\u001b[0m\u001b[0;34m.\u001b[0m\u001b[0many\u001b[0m\u001b[0;34m(\u001b[0m\u001b[0mx\u001b[0m \u001b[0;34m<=\u001b[0m \u001b[0;36m0\u001b[0m\u001b[0;34m)\u001b[0m\u001b[0;34m:\u001b[0m\u001b[0;34m\u001b[0m\u001b[0;34m\u001b[0m\u001b[0m\n\u001b[0;32m--> 119\u001b[0;31m             raise ValueError(\"Multiplicative seasonality is not appropriate \"\n\u001b[0m\u001b[1;32m    120\u001b[0m                              \"for zero and negative values\")\n\u001b[1;32m    121\u001b[0m \u001b[0;34m\u001b[0m\u001b[0m\n",
            "\u001b[0;31mValueError\u001b[0m: Multiplicative seasonality is not appropriate for zero and negative values"
          ]
        }
      ]
    },
    {
      "cell_type": "code",
      "metadata": {
        "id": "mnfdB6aETPK3"
      },
      "source": [
        "# Determining if the time series is stationary or not\n",
        "# Running dickey-fuller test on the time series \n",
        "\n",
        "result =adfuller(data['LP'])\n",
        "print('ADF Statistic:', result[0])\n",
        "print('p-value:', result[1])"
      ],
      "execution_count": null,
      "outputs": []
    },
    {
      "cell_type": "code",
      "metadata": {
        "id": "cBgvSmCpTRtz"
      },
      "source": [
        "# From the above test we conclude the time series is non stationary. \n",
        "# Taking the first difference of time series and droping NaN values\n",
        "\n",
        "data_diff = data.diff().dropna()\n",
        "result_diff = adfuller(data_diff['LP'])\n",
        "print('ADF Statistic:', result_diff[0])\n",
        "print('p-value:', result_diff[1])"
      ],
      "execution_count": null,
      "outputs": []
    },
    {
      "cell_type": "code",
      "metadata": {
        "id": "oqRPaOihTUXX"
      },
      "source": [
        "# Plotting the time series after the first difference\n",
        "\n",
        "data_diff.plot(figsize = (12,8), title = 'LP p')\n",
        "plt.show()"
      ],
      "execution_count": null,
      "outputs": []
    },
    {
      "cell_type": "code",
      "metadata": {
        "id": "J_Y9knoHTWfI"
      },
      "source": [
        "# Splitting the data into train and test set\n",
        "x=data.values\n",
        "data_train = x[:105]\n",
        "data_test = x[105:]\n",
        "len(data_test)"
      ],
      "execution_count": null,
      "outputs": []
    },
    {
      "cell_type": "code",
      "metadata": {
        "id": "rslNRJMYTZTU"
      },
      "source": [
        "# Finding AIC and BIC \n",
        "# Searching the model order with lowest AIC and BIC\n",
        "\n",
        "import warnings\n",
        "warnings.filterwarnings('ignore')\n",
        "for p in range(5):\n",
        "    \n",
        "    for q in range(5):\n",
        "        \n",
        "        try:\n",
        "            model = ARIMA(data_train, order = (p,1,q))\n",
        "            fit_model = model.fit()\n",
        "            \n",
        "            print(p,q,fit_model.aic, fit_model.bic)\n",
        "       \n",
        "        except:\n",
        "            print(p,q,None,None)"
      ],
      "execution_count": null,
      "outputs": []
    },
    {
      "cell_type": "code",
      "metadata": {
        "id": "-n93JLdXTdpA"
      },
      "source": [
        "# Fitting the ARIMA model into the train data set.\n",
        "# Forecasting the next 60 months production \n",
        "model = ARIMA(data_train, order = (4,1,2))\n",
        "fit_model = model.fit()\n",
        "forecasted_data = fit_model.forecast(steps = 60)[0]\n",
        "forecasted_data"
      ],
      "execution_count": null,
      "outputs": []
    },
    {
      "cell_type": "code",
      "metadata": {
        "id": "c4hrHVwVTjsN"
      },
      "source": [
        "# Plotting the forecasted data with the actaul test data\n",
        "\n",
        "plt.figure(figsize=(15,10))\n",
        "plt.plot(forecasted_data, color='red', label = 'Forecasted')\n",
        "plt.plot(data_test, color= 'blue', label = 'Observed')\n",
        "plt.legend()\n",
        "plt.show()\n"
      ],
      "execution_count": null,
      "outputs": []
    },
    {
      "cell_type": "markdown",
      "metadata": {
        "id": "YgU64JjPTmzg"
      },
      "source": [
        "#SARIMA\n"
      ]
    },
    {
      "cell_type": "code",
      "metadata": {
        "id": "tAUWXlRDTlJV"
      },
      "source": [
        "#!pip install pmdarima"
      ],
      "execution_count": null,
      "outputs": []
    },
    {
      "cell_type": "code",
      "metadata": {
        "id": "yn8sF1IVTsX1"
      },
      "source": [
        "import pmdarima as pm"
      ],
      "execution_count": null,
      "outputs": []
    },
    {
      "cell_type": "code",
      "metadata": {
        "id": "_M6JkHt9TydM"
      },
      "source": [
        "# Run the function with the specified arguments to find the best model\n",
        "\n",
        "sarima_model = pm.auto_arima(data, seasonal = True, m=12,d=1,D=1,start_p=1,start_q=1,start_P=0,max_p=3,max_q=3,\n",
        "                             trace=True,error_action='ignore',\n",
        "                            suppress_warnings=True, stepwise=True)"
      ],
      "execution_count": null,
      "outputs": []
    },
    {
      "cell_type": "code",
      "metadata": {
        "id": "ujz53TveT3Cv"
      },
      "source": [
        "# Fitting the model\n",
        "\n",
        "sarima_model.fit(data_train)\n"
      ],
      "execution_count": null,
      "outputs": []
    },
    {
      "cell_type": "code",
      "metadata": {
        "id": "1utGP-vzT5L2"
      },
      "source": [
        "# Making the prediction based on the fitted SARIMA model\n",
        "\n",
        "future_forecast = sarima_model.predict(n_periods=87)"
      ],
      "execution_count": null,
      "outputs": []
    },
    {
      "cell_type": "code",
      "metadata": {
        "id": "0jD3Gfv6T92u"
      },
      "source": [
        "# Plotting the predicted data\n",
        "\n",
        "plt.figure(figsize=(15,10))\n",
        "plt.plot(future_forecast, color='red', label = 'Forecasted')\n",
        "plt.plot(data_test,color='blue', label = 'Observed')\n",
        "#plt.plot(data_train,color='green', label = 'train')\n",
        "plt.legend()\n",
        "plt.show()\n",
        "\n",
        "#print(data_train)\n",
        "#print(data_test)\n",
        "#print(future_forecast)"
      ],
      "execution_count": null,
      "outputs": []
    },
    {
      "cell_type": "code",
      "metadata": {
        "id": "RmUVywbfUA7b"
      },
      "source": [
        "date = pd.date_range(start=\"2018-10-1\",end=\"2025-12-31\", freq='M')"
      ],
      "execution_count": null,
      "outputs": []
    },
    {
      "cell_type": "code",
      "metadata": {
        "id": "MXN6MUWCUEfd"
      },
      "source": [
        "sarima_model.summary()"
      ],
      "execution_count": null,
      "outputs": []
    },
    {
      "cell_type": "code",
      "metadata": {
        "id": "u1ryL5QdUElP"
      },
      "source": [
        "pd.set_option(\"display.max_rows\", None, \"display.max_columns\", None)\n",
        "pd.DataFrame(future_forecast, columns=[\"ch\"], index=date)"
      ],
      "execution_count": null,
      "outputs": []
    },
    {
      "cell_type": "code",
      "metadata": {
        "id": "1eEey5JRUKZm"
      },
      "source": [
        "# plotting the model diagnostics\n",
        "\n",
        "sarima_model.plot_diagnostics(figsize=(12,8))\n",
        "plt.show()"
      ],
      "execution_count": null,
      "outputs": []
    },
    {
      "cell_type": "code",
      "metadata": {
        "id": "V_zfxvI3UYX-"
      },
      "source": [
        "def MAPE(y_true, y_pred): \n",
        "    \"\"\"\n",
        "    %Error compares true value with predicted value. Lower the better. Use this along with rmse(). If the series has \n",
        "    outliers, compare/select model using MAPE instead of rmse()\n",
        "    \n",
        "    \"\"\"\n",
        "    y_true, y_pred = np.array(y_true), np.array(y_pred)\n",
        "    return np.mean(np.abs((y_true - y_pred) / y_true)) * 100\n",
        "\n",
        "from sklearn.metrics import mean_squared_error\n",
        "\n",
        "rms = mean_squared_error(data_test,future_forecast[:24], squared=False)\n",
        "mape = MAPE(data_test,future_forecast[:24])\n",
        "print(\"rms :\",rms)\n",
        "print(\"MAPE :\",mape)"
      ],
      "execution_count": null,
      "outputs": []
    },
    {
      "cell_type": "code",
      "metadata": {
        "id": "st1f8MSu7HOa"
      },
      "source": [
        "def accuracy(y1,y2):\n",
        "    \n",
        "    accuracy_df=pd.DataFrame()\n",
        "    \n",
        "    #rms_error = np.round(rmse(y1, y2),1)\n",
        "    \n",
        "    #map_error = np.round(np.mean(np.abs((np.array(y1) - np.array(y2)) / np.array(y1))) * 100,1)\n",
        "           \n",
        "    accuracy_df=accuracy_df.append({\"RMSE\":rms, \"%MAPE\": mape}, ignore_index=True)\n",
        "    \n",
        "    return accuracy_df\n",
        "\n",
        "accuracy(data_test,future_forecast[:24])"
      ],
      "execution_count": null,
      "outputs": []
    }
  ]
}